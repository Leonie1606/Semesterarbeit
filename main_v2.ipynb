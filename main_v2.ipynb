{
 "cells": [
  {
   "cell_type": "code",
   "execution_count": 1,
   "id": "8f3f48a5-ee40-429b-83d6-22f71a357fd2",
   "metadata": {},
   "outputs": [
    {
     "ename": "SystemExit",
     "evalue": "0",
     "output_type": "error",
     "traceback": [
      "An exception has occurred, use %tb to see the full traceback.\n",
      "\u001b[0;31mSystemExit\u001b[0m\u001b[0;31m:\u001b[0m 0\n"
     ]
    },
    {
     "name": "stderr",
     "output_type": "stream",
     "text": [
      "/Users/lisametzner/anaconda3/lib/python3.10/site-packages/IPython/core/interactiveshell.py:3468: UserWarning: To exit: use 'exit', 'quit', or Ctrl-D.\n",
      "  warn(\"To exit: use 'exit', 'quit', or Ctrl-D.\", stacklevel=1)\n"
     ]
    }
   ],
   "source": [
    "#!/usr/bin/env python3\n",
    "# -*- coding: utf-8 -*-\n",
    "\"\"\"\n",
    "Created on Tue Jun 24 21:23:38 2025\n",
    "\n",
    "@author: lisametzner\n",
    "\"\"\"\n",
    "\n",
    "#import threading as th\n",
    "from PySide6.QtWidgets import QApplication\n",
    "from mainwindow_v2 import MainWindow\n",
    "import sys\n",
    "\n",
    "    \n",
    "def main()->None:\n",
    "    \"\"\"\n",
    "    Funktion zum Starten der Anwendung.\n",
    "    \"\"\"\n",
    "    app = QApplication(sys.argv)\n",
    "    # Erzeugung eines Objekts aus Klasse MainWindow mit aktiven Printausgaben\n",
    "    mainWindow = MainWindow(verbose=False) \n",
    "    # Anzeigen des Objekts\n",
    "    mainWindow.show()\n",
    "    # Ausfuehren der Anwendung\n",
    "    sys.exit(app.exec())\n",
    "\n",
    "    \n",
    "if __name__ == \"__main__\":\n",
    "    main()\n"
   ]
  },
  {
   "cell_type": "code",
   "execution_count": null,
   "id": "1c49eb91-5b1a-43a8-ab89-57d1915c0ebb",
   "metadata": {},
   "outputs": [],
   "source": []
  }
 ],
 "metadata": {
  "kernelspec": {
   "display_name": "Python 3 (ipykernel)",
   "language": "python",
   "name": "python3"
  },
  "language_info": {
   "codemirror_mode": {
    "name": "ipython",
    "version": 3
   },
   "file_extension": ".py",
   "mimetype": "text/x-python",
   "name": "python",
   "nbconvert_exporter": "python",
   "pygments_lexer": "ipython3",
   "version": "3.10.9"
  }
 },
 "nbformat": 4,
 "nbformat_minor": 5
}
